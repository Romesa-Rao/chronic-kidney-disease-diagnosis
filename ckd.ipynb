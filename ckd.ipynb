{
 "cells": [
  {
   "cell_type": "code",
   "execution_count": 1,
   "metadata": {
    "collapsed": true
   },
   "outputs": [],
   "source": [
    "import numpy as np\n",
    "import pandas as pd"
   ]
  },
  {
   "cell_type": "code",
   "execution_count": 2,
   "metadata": {
    "collapsed": true
   },
   "outputs": [],
   "source": [
    "data = pd.read_csv(\"kidney_disease.csv\")"
   ]
  },
  {
   "cell_type": "code",
   "execution_count": 3,
   "metadata": {
    "collapsed": false
   },
   "outputs": [
    {
     "data": {
      "text/html": [
       "<div>\n",
       "<table border=\"1\" class=\"dataframe\">\n",
       "  <thead>\n",
       "    <tr style=\"text-align: right;\">\n",
       "      <th></th>\n",
       "      <th>id</th>\n",
       "      <th>age</th>\n",
       "      <th>bp</th>\n",
       "      <th>sg</th>\n",
       "      <th>al</th>\n",
       "      <th>su</th>\n",
       "      <th>rbc</th>\n",
       "      <th>pc</th>\n",
       "      <th>pcc</th>\n",
       "      <th>ba</th>\n",
       "      <th>...</th>\n",
       "      <th>pcv</th>\n",
       "      <th>wc</th>\n",
       "      <th>rc</th>\n",
       "      <th>htn</th>\n",
       "      <th>dm</th>\n",
       "      <th>cad</th>\n",
       "      <th>appet</th>\n",
       "      <th>pe</th>\n",
       "      <th>ane</th>\n",
       "      <th>classification</th>\n",
       "    </tr>\n",
       "  </thead>\n",
       "  <tbody>\n",
       "    <tr>\n",
       "      <th>0</th>\n",
       "      <td>0</td>\n",
       "      <td>48.0</td>\n",
       "      <td>80.0</td>\n",
       "      <td>1.02</td>\n",
       "      <td>1.0</td>\n",
       "      <td>0.0</td>\n",
       "      <td>NaN</td>\n",
       "      <td>normal</td>\n",
       "      <td>notpresent</td>\n",
       "      <td>notpresent</td>\n",
       "      <td>...</td>\n",
       "      <td>44.0</td>\n",
       "      <td>7800.0</td>\n",
       "      <td>5.2</td>\n",
       "      <td>yes</td>\n",
       "      <td>yes</td>\n",
       "      <td>no</td>\n",
       "      <td>good</td>\n",
       "      <td>no</td>\n",
       "      <td>no</td>\n",
       "      <td>ckd</td>\n",
       "    </tr>\n",
       "    <tr>\n",
       "      <th>1</th>\n",
       "      <td>1</td>\n",
       "      <td>7.0</td>\n",
       "      <td>50.0</td>\n",
       "      <td>1.02</td>\n",
       "      <td>4.0</td>\n",
       "      <td>0.0</td>\n",
       "      <td>NaN</td>\n",
       "      <td>normal</td>\n",
       "      <td>notpresent</td>\n",
       "      <td>notpresent</td>\n",
       "      <td>...</td>\n",
       "      <td>38.0</td>\n",
       "      <td>6000.0</td>\n",
       "      <td>NaN</td>\n",
       "      <td>no</td>\n",
       "      <td>no</td>\n",
       "      <td>no</td>\n",
       "      <td>good</td>\n",
       "      <td>no</td>\n",
       "      <td>no</td>\n",
       "      <td>ckd</td>\n",
       "    </tr>\n",
       "    <tr>\n",
       "      <th>2</th>\n",
       "      <td>2</td>\n",
       "      <td>62.0</td>\n",
       "      <td>80.0</td>\n",
       "      <td>1.01</td>\n",
       "      <td>2.0</td>\n",
       "      <td>3.0</td>\n",
       "      <td>normal</td>\n",
       "      <td>normal</td>\n",
       "      <td>notpresent</td>\n",
       "      <td>notpresent</td>\n",
       "      <td>...</td>\n",
       "      <td>31.0</td>\n",
       "      <td>7500.0</td>\n",
       "      <td>NaN</td>\n",
       "      <td>no</td>\n",
       "      <td>yes</td>\n",
       "      <td>no</td>\n",
       "      <td>poor</td>\n",
       "      <td>no</td>\n",
       "      <td>yes</td>\n",
       "      <td>ckd</td>\n",
       "    </tr>\n",
       "  </tbody>\n",
       "</table>\n",
       "<p>3 rows × 26 columns</p>\n",
       "</div>"
      ],
      "text/plain": [
       "   id   age    bp    sg   al   su     rbc      pc         pcc          ba  \\\n",
       "0   0  48.0  80.0  1.02  1.0  0.0     NaN  normal  notpresent  notpresent   \n",
       "1   1   7.0  50.0  1.02  4.0  0.0     NaN  normal  notpresent  notpresent   \n",
       "2   2  62.0  80.0  1.01  2.0  3.0  normal  normal  notpresent  notpresent   \n",
       "\n",
       "       ...         pcv      wc   rc  htn   dm  cad  appet  pe  ane  \\\n",
       "0      ...        44.0  7800.0  5.2  yes  yes   no   good  no   no   \n",
       "1      ...        38.0  6000.0  NaN   no   no   no   good  no   no   \n",
       "2      ...        31.0  7500.0  NaN   no  yes   no   poor  no  yes   \n",
       "\n",
       "  classification  \n",
       "0            ckd  \n",
       "1            ckd  \n",
       "2            ckd  \n",
       "\n",
       "[3 rows x 26 columns]"
      ]
     },
     "execution_count": 3,
     "metadata": {},
     "output_type": "execute_result"
    }
   ],
   "source": [
    "data.head(3)"
   ]
  },
  {
   "cell_type": "code",
   "execution_count": 31,
   "metadata": {
    "collapsed": false
   },
   "outputs": [
    {
     "data": {
      "text/plain": [
       "(400, 26)"
      ]
     },
     "execution_count": 31,
     "metadata": {},
     "output_type": "execute_result"
    }
   ],
   "source": [
    "data.shape"
   ]
  },
  {
   "cell_type": "code",
   "execution_count": 32,
   "metadata": {
    "collapsed": false
   },
   "outputs": [
    {
     "data": {
      "text/plain": [
       "id                  int64\n",
       "age               float64\n",
       "bp                float64\n",
       "sg                float64\n",
       "al                float64\n",
       "su                float64\n",
       "rbc                object\n",
       "pc                 object\n",
       "pcc                object\n",
       "ba                 object\n",
       "bgr               float64\n",
       "bu                float64\n",
       "sc                float64\n",
       "sod               float64\n",
       "pot               float64\n",
       "hemo              float64\n",
       "pcv               float64\n",
       "wc                float64\n",
       "rc                float64\n",
       "htn                object\n",
       "dm                 object\n",
       "cad                object\n",
       "appet              object\n",
       "pe                 object\n",
       "ane                object\n",
       "classification     object\n",
       "dtype: object"
      ]
     },
     "execution_count": 32,
     "metadata": {},
     "output_type": "execute_result"
    }
   ],
   "source": [
    "data.dtypes"
   ]
  },
  {
   "cell_type": "code",
   "execution_count": 19,
   "metadata": {
    "collapsed": false
   },
   "outputs": [
    {
     "name": "stdout",
     "output_type": "stream",
     "text": [
      "Using matplotlib backend: Qt5Agg\n"
     ]
    }
   ],
   "source": [
    "import matplotlib.pyplot as plt\n",
    "import seaborn as sn\n",
    "%matplotlib\n",
    "import missingno as msno"
   ]
  },
  {
   "cell_type": "code",
   "execution_count": 20,
   "metadata": {
    "collapsed": false
   },
   "outputs": [],
   "source": [
    "msno.matrix(data)"
   ]
  },
  {
   "cell_type": "code",
   "execution_count": 35,
   "metadata": {
    "collapsed": true
   },
   "outputs": [],
   "source": [
    "msno.heatmap(data)"
   ]
  },
  {
   "cell_type": "code",
   "execution_count": 21,
   "metadata": {
    "collapsed": false
   },
   "outputs": [
    {
     "name": "stderr",
     "output_type": "stream",
     "text": [
      "C:\\Users\\LENOVO\\Anaconda\\lib\\site-packages\\matplotlib\\axes\\_base.py:3179: UserWarning: Attempting to set identical bottom==top results\n",
      "in singular transformations; automatically expanding.\n",
      "bottom=0.0, top=0\n",
      "  'bottom=%s, top=%s') % (bottom, top))\n"
     ]
    }
   ],
   "source": [
    "msno.dendrogram(data)"
   ]
  },
  {
   "cell_type": "code",
   "execution_count": 37,
   "metadata": {
    "collapsed": false
   },
   "outputs": [
    {
     "data": {
      "text/plain": [
       "<bound method NDFrame.head of       id   age     bp     sg   al   su       rbc        pc         pcc  \\\n",
       "0      0  48.0   80.0  1.020  1.0  0.0       NaN    normal  notpresent   \n",
       "1      1   7.0   50.0  1.020  4.0  0.0       NaN    normal  notpresent   \n",
       "2      2  62.0   80.0  1.010  2.0  3.0    normal    normal  notpresent   \n",
       "3      3  48.0   70.0  1.005  4.0  0.0    normal  abnormal     present   \n",
       "4      4  51.0   80.0  1.010  2.0  0.0    normal    normal  notpresent   \n",
       "5      5  60.0   90.0  1.015  3.0  0.0       NaN       NaN  notpresent   \n",
       "6      6  68.0   70.0  1.010  0.0  0.0       NaN    normal  notpresent   \n",
       "7      7  24.0    NaN  1.015  2.0  4.0    normal  abnormal  notpresent   \n",
       "8      8  52.0  100.0  1.015  3.0  0.0    normal  abnormal     present   \n",
       "9      9  53.0   90.0  1.020  2.0  0.0  abnormal  abnormal     present   \n",
       "10    10  50.0   60.0  1.010  2.0  4.0       NaN  abnormal     present   \n",
       "11    11  63.0   70.0  1.010  3.0  0.0  abnormal  abnormal     present   \n",
       "12    12  68.0   70.0  1.015  3.0  1.0       NaN    normal     present   \n",
       "13    13  68.0   70.0    NaN  NaN  NaN       NaN       NaN  notpresent   \n",
       "14    14  68.0   80.0  1.010  3.0  2.0    normal  abnormal     present   \n",
       "15    15  40.0   80.0  1.015  3.0  0.0       NaN    normal  notpresent   \n",
       "16    16  47.0   70.0  1.015  2.0  0.0       NaN    normal  notpresent   \n",
       "17    17  47.0   80.0    NaN  NaN  NaN       NaN       NaN  notpresent   \n",
       "18    18  60.0  100.0  1.025  0.0  3.0       NaN    normal  notpresent   \n",
       "19    19  62.0   60.0  1.015  1.0  0.0       NaN  abnormal     present   \n",
       "20    20  61.0   80.0  1.015  2.0  0.0  abnormal  abnormal  notpresent   \n",
       "21    21  60.0   90.0    NaN  NaN  NaN       NaN       NaN  notpresent   \n",
       "22    22  48.0   80.0  1.025  4.0  0.0    normal  abnormal  notpresent   \n",
       "23    23  21.0   70.0  1.010  0.0  0.0       NaN    normal  notpresent   \n",
       "24    24  42.0  100.0  1.015  4.0  0.0    normal  abnormal  notpresent   \n",
       "25    25  61.0   60.0  1.025  0.0  0.0       NaN    normal  notpresent   \n",
       "26    26  75.0   80.0  1.015  0.0  0.0       NaN    normal  notpresent   \n",
       "27    27  69.0   70.0  1.010  3.0  4.0    normal  abnormal  notpresent   \n",
       "28    28  75.0   70.0    NaN  1.0  3.0       NaN       NaN  notpresent   \n",
       "29    29  68.0   70.0  1.005  1.0  0.0  abnormal  abnormal     present   \n",
       "..   ...   ...    ...    ...  ...  ...       ...       ...         ...   \n",
       "370  370  69.0   70.0  1.020  0.0  0.0    normal    normal  notpresent   \n",
       "371  371  28.0   60.0  1.025  0.0  0.0    normal    normal  notpresent   \n",
       "372  372  72.0   60.0  1.020  0.0  0.0    normal    normal  notpresent   \n",
       "373  373  61.0   70.0  1.025  0.0  0.0    normal    normal  notpresent   \n",
       "374  374  79.0   80.0  1.025  0.0  0.0    normal    normal  notpresent   \n",
       "375  375  70.0   80.0  1.020  0.0  0.0    normal    normal  notpresent   \n",
       "376  376  58.0   70.0  1.025  0.0  0.0    normal    normal  notpresent   \n",
       "377  377  64.0   70.0  1.020  0.0  0.0    normal    normal  notpresent   \n",
       "378  378  71.0   60.0  1.025  0.0  0.0    normal    normal  notpresent   \n",
       "379  379  62.0   80.0  1.025  0.0  0.0    normal    normal  notpresent   \n",
       "380  380  59.0   60.0  1.020  0.0  0.0    normal    normal  notpresent   \n",
       "381  381  71.0   70.0  1.025  0.0  0.0       NaN       NaN  notpresent   \n",
       "382  382  48.0   80.0  1.025  0.0  0.0    normal    normal  notpresent   \n",
       "383  383  80.0   80.0  1.025  0.0  0.0    normal    normal  notpresent   \n",
       "384  384  57.0   60.0  1.020  0.0  0.0    normal    normal  notpresent   \n",
       "385  385  63.0   70.0  1.020  0.0  0.0    normal    normal  notpresent   \n",
       "386  386  46.0   70.0  1.025  0.0  0.0    normal    normal  notpresent   \n",
       "387  387  15.0   80.0  1.025  0.0  0.0    normal    normal  notpresent   \n",
       "388  388  51.0   80.0  1.020  0.0  0.0    normal    normal  notpresent   \n",
       "389  389  41.0   80.0  1.025  0.0  0.0    normal    normal  notpresent   \n",
       "390  390  52.0   80.0  1.025  0.0  0.0    normal    normal  notpresent   \n",
       "391  391  36.0   80.0  1.025  0.0  0.0    normal    normal  notpresent   \n",
       "392  392  57.0   80.0  1.020  0.0  0.0    normal    normal  notpresent   \n",
       "393  393  43.0   60.0  1.025  0.0  0.0    normal    normal  notpresent   \n",
       "394  394  50.0   80.0  1.020  0.0  0.0    normal    normal  notpresent   \n",
       "395  395  55.0   80.0  1.020  0.0  0.0    normal    normal  notpresent   \n",
       "396  396  42.0   70.0  1.025  0.0  0.0    normal    normal  notpresent   \n",
       "397  397  12.0   80.0  1.020  0.0  0.0    normal    normal  notpresent   \n",
       "398  398  17.0   60.0  1.025  0.0  0.0    normal    normal  notpresent   \n",
       "399  399  58.0   80.0  1.025  0.0  0.0    normal    normal  notpresent   \n",
       "\n",
       "             ba      ...         pcv       wc   rc  htn   dm  cad  appet   pe  \\\n",
       "0    notpresent      ...        44.0   7800.0  5.2  yes  yes   no   good   no   \n",
       "1    notpresent      ...        38.0   6000.0  NaN   no   no   no   good   no   \n",
       "2    notpresent      ...        31.0   7500.0  NaN   no  yes   no   poor   no   \n",
       "3    notpresent      ...        32.0   6700.0  3.9  yes   no   no   poor  yes   \n",
       "4    notpresent      ...        35.0   7300.0  4.6   no   no   no   good   no   \n",
       "5    notpresent      ...        39.0   7800.0  4.4  yes  yes   no   good  yes   \n",
       "6    notpresent      ...        36.0      NaN  NaN   no   no   no   good   no   \n",
       "7    notpresent      ...        44.0   6900.0  5.0   no  yes   no   good  yes   \n",
       "8    notpresent      ...        33.0   9600.0  4.0  yes  yes   no   good   no   \n",
       "9    notpresent      ...        29.0  12100.0  3.7  yes  yes   no   poor   no   \n",
       "10   notpresent      ...        28.0      NaN  NaN  yes  yes   no   good   no   \n",
       "11   notpresent      ...        32.0   4500.0  3.8  yes  yes   no   poor  yes   \n",
       "12   notpresent      ...        28.0  12200.0  3.4  yes  yes  yes   poor  yes   \n",
       "13   notpresent      ...         NaN      NaN  NaN  yes  yes  yes   poor  yes   \n",
       "14      present      ...        16.0  11000.0  2.6  yes  yes  yes   poor  yes   \n",
       "15   notpresent      ...        24.0   3800.0  2.8  yes   no   no   good   no   \n",
       "16   notpresent      ...         NaN      NaN  NaN   no   no   no   good   no   \n",
       "17   notpresent      ...         NaN      NaN  NaN  yes   no   no   poor   no   \n",
       "18   notpresent      ...        37.0  11400.0  4.3  yes  yes  yes   good   no   \n",
       "19   notpresent      ...        30.0   5300.0  3.7  yes   no  yes   good   no   \n",
       "20   notpresent      ...        24.0   9200.0  3.2  yes  yes  yes   poor  yes   \n",
       "21   notpresent      ...        32.0   6200.0  3.6  yes  yes  yes   good   no   \n",
       "22   notpresent      ...        32.0   6900.0  3.4  yes   no   no   good   no   \n",
       "23   notpresent      ...         NaN      NaN  NaN   no   no   no   poor   no   \n",
       "24      present      ...        39.0   8300.0  4.6  yes   no   no   poor   no   \n",
       "25   notpresent      ...        29.0   8400.0  3.7  yes  yes   no   good   no   \n",
       "26   notpresent      ...        35.0  10300.0  4.0  yes  yes   no   poor   no   \n",
       "27   notpresent      ...        37.0   9600.0  4.1  yes  yes  yes   good  yes   \n",
       "28   notpresent      ...         NaN      NaN  NaN   no  yes   no   good   no   \n",
       "29   notpresent      ...        38.0      NaN  NaN   no   no  yes   good   no   \n",
       "..          ...      ...         ...      ...  ...  ...  ...  ...    ...  ...   \n",
       "370  notpresent      ...        50.0   9300.0  5.4   no   no   no   good   no   \n",
       "371  notpresent      ...        51.0   6500.0  5.0   no   no   no   good   no   \n",
       "372  notpresent      ...        52.0  10500.0  5.5   no   no   no   good   no   \n",
       "373  notpresent      ...        47.0   9200.0  4.9   no   no   no   good   no   \n",
       "374  notpresent      ...        40.0   8000.0  6.4   no   no   no   good   no   \n",
       "375  notpresent      ...        48.0   9700.0  5.6   no   no   no   good   no   \n",
       "376  notpresent      ...        53.0   9100.0  5.2   no   no   no   good   no   \n",
       "377  notpresent      ...        49.0   6400.0  4.8   no   no   no   good   no   \n",
       "378  notpresent      ...        42.0   7700.0  5.5   no   no   no   good   no   \n",
       "379  notpresent      ...        50.0   5400.0  5.7   no   no   no   good   no   \n",
       "380  notpresent      ...        54.0   6500.0  4.9   no   no   no   good   no   \n",
       "381  notpresent      ...        40.0   5800.0  5.9   no   no   no   good   no   \n",
       "382  notpresent      ...        51.0   6000.0  6.5   no   no   no   good   no   \n",
       "383  notpresent      ...        49.0   5100.0  5.0   no   no   no   good   no   \n",
       "384  notpresent      ...        42.0  11000.0  4.5   no   no   no   good   no   \n",
       "385  notpresent      ...        52.0   8000.0  5.1   no   no   no   good   no   \n",
       "386  notpresent      ...        43.0   5700.0  6.5   no   no   no   good   no   \n",
       "387  notpresent      ...        50.0   6200.0  5.2   no   no   no   good   no   \n",
       "388  notpresent      ...        46.0   9500.0  6.4   no   no   no   good   no   \n",
       "389  notpresent      ...        52.0   7200.0  5.8   no   no   no   good   no   \n",
       "390  notpresent      ...        52.0   6300.0  5.3   no   no   no   good   no   \n",
       "391  notpresent      ...        44.0   5800.0  6.3   no   no   no   good   no   \n",
       "392  notpresent      ...        46.0   6600.0  5.5   no   no   no   good   no   \n",
       "393  notpresent      ...        54.0   7400.0  5.4   no   no   no   good   no   \n",
       "394  notpresent      ...        45.0   9500.0  4.6   no   no   no   good   no   \n",
       "395  notpresent      ...        47.0   6700.0  4.9   no   no   no   good   no   \n",
       "396  notpresent      ...        54.0   7800.0  6.2   no   no   no   good   no   \n",
       "397  notpresent      ...        49.0   6600.0  5.4   no   no   no   good   no   \n",
       "398  notpresent      ...        51.0   7200.0  5.9   no   no   no   good   no   \n",
       "399  notpresent      ...        53.0   6800.0  6.1   no   no   no   good   no   \n",
       "\n",
       "     ane classification  \n",
       "0     no            ckd  \n",
       "1     no            ckd  \n",
       "2    yes            ckd  \n",
       "3    yes            ckd  \n",
       "4     no            ckd  \n",
       "5     no            ckd  \n",
       "6     no            ckd  \n",
       "7     no            ckd  \n",
       "8    yes            ckd  \n",
       "9    yes            ckd  \n",
       "10   yes            ckd  \n",
       "11    no            ckd  \n",
       "12    no            ckd  \n",
       "13    no            ckd  \n",
       "14    no            ckd  \n",
       "15   yes            ckd  \n",
       "16    no            ckd  \n",
       "17    no            ckd  \n",
       "18    no            ckd  \n",
       "19    no            ckd  \n",
       "20   yes            ckd  \n",
       "21    no            ckd  \n",
       "22   yes            ckd  \n",
       "23   yes            ckd  \n",
       "24    no            ckd  \n",
       "25   yes            ckd  \n",
       "26    no            ckd  \n",
       "27    no            ckd  \n",
       "28    no            ckd  \n",
       "29    no            ckd  \n",
       "..   ...            ...  \n",
       "370   no         notckd  \n",
       "371   no         notckd  \n",
       "372   no         notckd  \n",
       "373   no         notckd  \n",
       "374   no         notckd  \n",
       "375   no         notckd  \n",
       "376   no         notckd  \n",
       "377   no         notckd  \n",
       "378   no         notckd  \n",
       "379   no         notckd  \n",
       "380   no         notckd  \n",
       "381   no         notckd  \n",
       "382   no         notckd  \n",
       "383   no         notckd  \n",
       "384   no         notckd  \n",
       "385   no         notckd  \n",
       "386   no         notckd  \n",
       "387   no         notckd  \n",
       "388   no         notckd  \n",
       "389   no         notckd  \n",
       "390   no         notckd  \n",
       "391   no         notckd  \n",
       "392   no         notckd  \n",
       "393   no         notckd  \n",
       "394   no         notckd  \n",
       "395   no         notckd  \n",
       "396   no         notckd  \n",
       "397   no         notckd  \n",
       "398   no         notckd  \n",
       "399   no         notckd  \n",
       "\n",
       "[400 rows x 26 columns]>"
      ]
     },
     "execution_count": 37,
     "metadata": {},
     "output_type": "execute_result"
    }
   ],
   "source": [
    "data.dtypes\n",
    "data.head\n"
   ]
  },
  {
   "cell_type": "code",
   "execution_count": 4,
   "metadata": {
    "collapsed": false
   },
   "outputs": [
    {
     "data": {
      "text/plain": [
       "id                  int64\n",
       "age               float64\n",
       "bp                float64\n",
       "sg                float64\n",
       "al                float64\n",
       "su                float64\n",
       "rbc               float64\n",
       "pc                float64\n",
       "pcc               float64\n",
       "ba                float64\n",
       "bgr               float64\n",
       "bu                float64\n",
       "sc                float64\n",
       "sod               float64\n",
       "pot               float64\n",
       "hemo              float64\n",
       "pcv               float64\n",
       "wc                float64\n",
       "rc                float64\n",
       "htn               float64\n",
       "dm                 object\n",
       "cad                object\n",
       "appet             float64\n",
       "pe                float64\n",
       "ane               float64\n",
       "classification      int64\n",
       "dtype: object"
      ]
     },
     "execution_count": 4,
     "metadata": {},
     "output_type": "execute_result"
    }
   ],
   "source": [
    "mapping = {'yes':1, 'no':0}\n",
    "data = data.replace({'htn':mapping,'pe':mapping,'ane':mapping})\n",
    "mapping1 = {'normal':1, 'abnormal':0}\n",
    "data = data.replace({'rbc':mapping1, 'pc':mapping1})\n",
    "mapping4 = {'present':1, 'notpresent':0}\n",
    "data = data.replace({'pcc':mapping4, 'ba':mapping4})\n",
    "mapping5 = {'good':1, 'poor':0}\n",
    "data = data.replace({'appet':mapping5})\n",
    "mapping6 = {'ckd':1, 'notckd':0, 'ckd\\t':1}\n",
    "data = data.replace({'classification':mapping6})\n",
    "\n",
    "data.dtypes"
   ]
  },
  {
   "cell_type": "code",
   "execution_count": 39,
   "metadata": {
    "collapsed": false
   },
   "outputs": [
    {
     "data": {
      "text/plain": [
       "id                  int64\n",
       "age               float64\n",
       "bp                float64\n",
       "sg                float64\n",
       "al                float64\n",
       "su                float64\n",
       "rbc               float64\n",
       "pc                float64\n",
       "pcc               float64\n",
       "ba                float64\n",
       "bgr               float64\n",
       "bu                float64\n",
       "sc                float64\n",
       "sod               float64\n",
       "pot               float64\n",
       "hemo              float64\n",
       "pcv               float64\n",
       "wc                float64\n",
       "rc                float64\n",
       "htn               float64\n",
       "dm                 object\n",
       "cad                object\n",
       "appet             float64\n",
       "pe                float64\n",
       "ane               float64\n",
       "classification      int64\n",
       "dtype: object"
      ]
     },
     "execution_count": 39,
     "metadata": {},
     "output_type": "execute_result"
    }
   ],
   "source": [
    "data.dtypes"
   ]
  },
  {
   "cell_type": "code",
   "execution_count": 40,
   "metadata": {
    "collapsed": false
   },
   "outputs": [
    {
     "data": {
      "text/plain": [
       "id                  int64\n",
       "age               float64\n",
       "bp                float64\n",
       "sg                float64\n",
       "al                float64\n",
       "su                float64\n",
       "rbc               float64\n",
       "pc                float64\n",
       "pcc               float64\n",
       "ba                float64\n",
       "bgr               float64\n",
       "bu                float64\n",
       "sc                float64\n",
       "sod               float64\n",
       "pot               float64\n",
       "hemo              float64\n",
       "pcv               float64\n",
       "wc                float64\n",
       "rc                float64\n",
       "htn               float64\n",
       "dm                 object\n",
       "cad                object\n",
       "appet             float64\n",
       "pe                float64\n",
       "ane               float64\n",
       "classification      int64\n",
       "dtype: object"
      ]
     },
     "execution_count": 40,
     "metadata": {},
     "output_type": "execute_result"
    }
   ],
   "source": [
    "data.dtypes"
   ]
  },
  {
   "cell_type": "code",
   "execution_count": 41,
   "metadata": {
    "collapsed": false
   },
   "outputs": [
    {
     "name": "stdout",
     "output_type": "stream",
     "text": [
      "[1 1 1 1 1 1 1 1 1 1 1 1 1 1 1 1 1 1 1 1 1 1 1 1 1 1 1 1 1 1 1 1 1 1 1 1 1\n",
      " 1 1 1 1 1 1 1 1 1 1 1 1 1 1 1 1 1 1 1 1 1 1 1 1 1 1 1 1 1 1 1 1 1 1 1 1 1\n",
      " 1 1 1 1 1 1 1 1 1 1 1 1 1 1 1 1 1 1 1 1 1 1 1 1 1 1 1 1 1 1 1 1 1 1 1 1 1\n",
      " 1 1 1 1 1 1 1 1 1 1 1 1 1 1 1 1 1 1 1 1 1 1 1 1 1 1 1 1 1 1 1 1 1 1 1 1 1\n",
      " 1 1 1 1 1 1 1 1 1 1 1 1 1 1 1 1 1 1 1 1 1 1 1 1 1 1 1 1 1 1 1 1 1 1 1 1 1\n",
      " 1 1 1 1 1 1 1 1 1 1 1 1 1 1 1 1 1 1 1 1 1 1 1 1 1 1 1 1 1 1 1 1 1 1 1 1 1\n",
      " 1 1 1 1 1 1 1 1 1 1 1 1 1 1 1 1 1 1 1 1 1 1 1 1 1 1 1 1 0 0 0 0 0 0 0 0 0\n",
      " 0 0 0 0 0 0 0 0 0 0 0 0 0 0 0 0 0 0 0 0 0 0 0 0 0 0 0 0 0 0 0 0 0 0 0 0 0\n",
      " 0 0 0 0 0 0 0 0 0 0 0 0 0 0 0 0 0 0 0 0 0 0 0 0 0 0 0 0 0 0 0 0 0 0 0 0 0\n",
      " 0 0 0 0 0 0 0 0 0 0 0 0 0 0 0 0 0 0 0 0 0 0 0 0 0 0 0 0 0 0 0 0 0 0 0 0 0\n",
      " 0 0 0 0 0 0 0 0 0 0 0 0 0 0 0 0 0 0 0 0 0 0 0 0 0 0 0 0 0 0]\n"
     ]
    }
   ],
   "source": [
    "y = data.ix[:,(25)].values\n",
    "print(y)"
   ]
  },
  {
   "cell_type": "code",
   "execution_count": 42,
   "metadata": {
    "collapsed": false
   },
   "outputs": [],
   "source": [
    "#mapping6 = {'?':0}\n",
    "#data = data.replace({'pcv':mapping6, 'wc':mapping6, 'rc':mapping6, 'dm':mapping6, 'cad':mapping6})"
   ]
  },
  {
   "cell_type": "code",
   "execution_count": 43,
   "metadata": {
    "collapsed": false
   },
   "outputs": [
    {
     "data": {
      "text/plain": [
       "id                  int64\n",
       "age               float64\n",
       "bp                float64\n",
       "sg                float64\n",
       "al                float64\n",
       "su                float64\n",
       "rbc               float64\n",
       "pc                float64\n",
       "pcc               float64\n",
       "ba                float64\n",
       "bgr               float64\n",
       "bu                float64\n",
       "sc                float64\n",
       "sod               float64\n",
       "pot               float64\n",
       "hemo              float64\n",
       "pcv               float64\n",
       "wc                float64\n",
       "rc                float64\n",
       "htn               float64\n",
       "dm                 object\n",
       "cad                object\n",
       "appet             float64\n",
       "pe                float64\n",
       "ane               float64\n",
       "classification      int64\n",
       "dtype: object"
      ]
     },
     "execution_count": 43,
     "metadata": {},
     "output_type": "execute_result"
    }
   ],
   "source": [
    "data.dtypes"
   ]
  },
  {
   "cell_type": "code",
   "execution_count": 5,
   "metadata": {
    "collapsed": false
   },
   "outputs": [],
   "source": [
    "data.drop(['cad','dm'],axis=1,inplace=True)"
   ]
  },
  {
   "cell_type": "code",
   "execution_count": 6,
   "metadata": {
    "collapsed": false
   },
   "outputs": [
    {
     "data": {
      "text/plain": [
       "id                  int64\n",
       "age               float64\n",
       "bp                float64\n",
       "sg                float64\n",
       "al                float64\n",
       "su                float64\n",
       "rbc               float64\n",
       "pc                float64\n",
       "pcc               float64\n",
       "ba                float64\n",
       "bgr               float64\n",
       "bu                float64\n",
       "sc                float64\n",
       "sod               float64\n",
       "pot               float64\n",
       "hemo              float64\n",
       "pcv               float64\n",
       "wc                float64\n",
       "rc                float64\n",
       "htn               float64\n",
       "appet             float64\n",
       "pe                float64\n",
       "ane               float64\n",
       "classification      int64\n",
       "dtype: object"
      ]
     },
     "execution_count": 6,
     "metadata": {},
     "output_type": "execute_result"
    }
   ],
   "source": [
    "data.dtypes"
   ]
  },
  {
   "cell_type": "code",
   "execution_count": 9,
   "metadata": {
    "collapsed": false
   },
   "outputs": [
    {
     "name": "stdout",
     "output_type": "stream",
     "text": [
      "[[ 48.     80.      1.02  ...,   1.      0.      0.   ]\n",
      " [  7.     50.      1.02  ...,   1.      0.      0.   ]\n",
      " [ 62.     80.      1.01  ...,   0.      0.      1.   ]\n",
      " ..., \n",
      " [ 12.     80.      1.02  ...,   1.      0.      0.   ]\n",
      " [ 17.     60.      1.025 ...,   1.      0.      0.   ]\n",
      " [ 58.     80.      1.025 ...,   1.      0.      0.   ]]\n",
      "[1 1 1 1 1 1 1 1 1 1 1 1 1 1 1 1 1 1 1 1 1 1 1 1 1 1 1 1 1 1 1 1 1 1 1 1 1\n",
      " 1 1 1 1 1 1 1 1 1 1 1 1 1 1 1 1 1 1 1 1 1 1 1 1 1 1 1 1 1 1 1 1 1 1 1 1 1\n",
      " 1 1 1 1 1 1 1 1 1 1 1 1 1 1 1 1 1 1 1 1 1 1 1 1 1 1 1 1 1 1 1 1 1 1 1 1 1\n",
      " 1 1 1 1 1 1 1 1 1 1 1 1 1 1 1 1 1 1 1 1 1 1 1 1 1 1 1 1 1 1 1 1 1 1 1 1 1\n",
      " 1 1 1 1 1 1 1 1 1 1 1 1 1 1 1 1 1 1 1 1 1 1 1 1 1 1 1 1 1 1 1 1 1 1 1 1 1\n",
      " 1 1 1 1 1 1 1 1 1 1 1 1 1 1 1 1 1 1 1 1 1 1 1 1 1 1 1 1 1 1 1 1 1 1 1 1 1\n",
      " 1 1 1 1 1 1 1 1 1 1 1 1 1 1 1 1 1 1 1 1 1 1 1 1 1 1 1 1 0 0 0 0 0 0 0 0 0\n",
      " 0 0 0 0 0 0 0 0 0 0 0 0 0 0 0 0 0 0 0 0 0 0 0 0 0 0 0 0 0 0 0 0 0 0 0 0 0\n",
      " 0 0 0 0 0 0 0 0 0 0 0 0 0 0 0 0 0 0 0 0 0 0 0 0 0 0 0 0 0 0 0 0 0 0 0 0 0\n",
      " 0 0 0 0 0 0 0 0 0 0 0 0 0 0 0 0 0 0 0 0 0 0 0 0 0 0 0 0 0 0 0 0 0 0 0 0 0\n",
      " 0 0 0 0 0 0 0 0 0 0 0 0 0 0 0 0 0 0 0 0 0 0 0 0 0 0 0 0 0 0]\n"
     ]
    }
   ],
   "source": [
    "X = data.ix[:,(1,2,3,4,5,6,7,8,9,10,11,12,13,14,15,16,17,18,19,20,21,22)].values\n",
    "y = data.ix[:,(23)].values\n",
    "print(X)\n",
    "print(y)"
   ]
  },
  {
   "cell_type": "code",
   "execution_count": 48,
   "metadata": {
    "collapsed": false
   },
   "outputs": [
    {
     "data": {
      "text/plain": [
       "(400, 22)"
      ]
     },
     "execution_count": 48,
     "metadata": {},
     "output_type": "execute_result"
    }
   ],
   "source": [
    "X.shape"
   ]
  },
  {
   "cell_type": "code",
   "execution_count": 7,
   "metadata": {
    "collapsed": false
   },
   "outputs": [],
   "source": [
    "data = data.fillna(method = 'ffill')"
   ]
  },
  {
   "cell_type": "code",
   "execution_count": 49,
   "metadata": {
    "collapsed": false
   },
   "outputs": [
    {
     "data": {
      "text/plain": [
       "(400,)"
      ]
     },
     "execution_count": 49,
     "metadata": {},
     "output_type": "execute_result"
    }
   ],
   "source": [
    "y.shape"
   ]
  },
  {
   "cell_type": "code",
   "execution_count": 50,
   "metadata": {
    "collapsed": false
   },
   "outputs": [
    {
     "data": {
      "text/plain": [
       "id                0\n",
       "age               0\n",
       "bp                0\n",
       "sg                0\n",
       "al                0\n",
       "su                0\n",
       "rbc               2\n",
       "pc                0\n",
       "pcc               0\n",
       "ba                0\n",
       "bgr               0\n",
       "bu                0\n",
       "sc                0\n",
       "sod               3\n",
       "pot               3\n",
       "hemo              0\n",
       "pcv               0\n",
       "wc                0\n",
       "rc                0\n",
       "htn               0\n",
       "appet             0\n",
       "pe                0\n",
       "ane               0\n",
       "classification    0\n",
       "dtype: int64"
      ]
     },
     "execution_count": 50,
     "metadata": {},
     "output_type": "execute_result"
    }
   ],
   "source": [
    "data.isnull().sum()\n"
   ]
  },
  {
   "cell_type": "code",
   "execution_count": 8,
   "metadata": {
    "collapsed": false
   },
   "outputs": [
    {
     "data": {
      "text/plain": [
       "id                0\n",
       "age               0\n",
       "bp                0\n",
       "sg                0\n",
       "al                0\n",
       "su                0\n",
       "rbc               0\n",
       "pc                0\n",
       "pcc               0\n",
       "ba                0\n",
       "bgr               0\n",
       "bu                0\n",
       "sc                0\n",
       "sod               0\n",
       "pot               0\n",
       "hemo              0\n",
       "pcv               0\n",
       "wc                0\n",
       "rc                0\n",
       "htn               0\n",
       "appet             0\n",
       "pe                0\n",
       "ane               0\n",
       "classification    0\n",
       "dtype: int64"
      ]
     },
     "execution_count": 8,
     "metadata": {},
     "output_type": "execute_result"
    }
   ],
   "source": [
    "data.rbc = data.rbc.fillna(1)\n",
    "meansod = np.mean(data.sod)\n",
    "data.sod = data.sod.fillna(meansod)\n",
    "meanpot = np.mean(data.pot)\n",
    "data.pot = data.pot.fillna(meanpot)\n",
    "data.isnull().sum()\n"
   ]
  },
  {
   "cell_type": "code",
   "execution_count": 23,
   "metadata": {
    "collapsed": false
   },
   "outputs": [
    {
     "name": "stdout",
     "output_type": "stream",
     "text": [
      "enter age in years30\n",
      "enter blood pressure in mm/Hg80\n",
      "enter Specific gravity in nominal1.1\n",
      "enter albumin in nominal(1-5)3\n",
      "enter sugar in nominal2\n",
      "enter rbc(1-normal,0-abnormal)0\n",
      "enter pus cell(1-normal,0-abnormal)1\n",
      "enter pus cell clumps(1-present,0-not present)1\n",
      "enter bacteria(1-present,0-not present)1\n",
      "enter blood glucose random120\n",
      "enter blood urea30\n",
      "enter serum creatinione1.8\n",
      "enter sodium104\n",
      "enter potassium3.2\n",
      "enter hemoglobin12.2\n",
      "enter packed cell volume32\n",
      "enter white blood cell count9600\n",
      "enter red blood cell count4.4\n",
      "enter hypertension0\n",
      "enter appetite1\n",
      "enter pedal edema0\n",
      "enter anemia1\n",
      "ckd is positive\n",
      "Accuracy : 100.000%\n"
     ]
    }
   ],
   "source": [
    "from sklearn.ensemble import RandomForestClassifier\n",
    "from sklearn import metrics\n",
    "model = RandomForestClassifier()\n",
    "model.fit(X,y)\n",
    "predictions = model.predict(X)\n",
    "#print(\"Accuracy : %s\" % \"{0:.3%}\".format(accuracy))\n",
    "a=int(input(\"enter age in years\"))\n",
    "b=int(input(\"enter blood pressure in mm/Hg\"))\n",
    "c=float(input(\"enter Specific gravity in nominal\"))\n",
    "d=int(input(\"enter albumin in nominal(1-5)\"))\n",
    "e=int(input(\"enter sugar in nominal\"))\n",
    "f=int(input(\"enter rbc(1-normal,0-abnormal)\"))\n",
    "g=int(input(\"enter pus cell(1-normal,0-abnormal)\"))\n",
    "h=int(input(\"enter pus cell clumps(1-present,0-not present)\"))\n",
    "i=int(input(\"enter bacteria(1-present,0-not present)\"))\n",
    "j=int(input(\"enter blood glucose random\"))\n",
    "k=int(input(\"enter blood urea\"))\n",
    "l=float(input(\"enter serum creatinione\"))\n",
    "m=int(input(\"enter sodium\"))\n",
    "n=float(input(\"enter potassium\"))\n",
    "o=float(input(\"enter hemoglobin\"))\n",
    "p=int(input(\"enter packed cell volume\"))\n",
    "q=int(input(\"enter white blood cell count\"))\n",
    "r=float(input(\"enter red blood cell count\"))\n",
    "s=int(input(\"enter hypertension\"))\n",
    "t=int(input(\"enter appetite\"))\n",
    "u=int(input(\"enter pedal edema\"))\n",
    "v=int(input(\"enter anemia\"))\n",
    "ex=np.array([[a],[b],[c],[d],[e],[f],[g],[h],[i],[j],[k],[l],[m],[n],[o],[p],[q],[r],[s],[t],[u],[v]])\n",
    "#ex.shape\n",
    "ex = ex.reshape(1,len(ex))\n",
    "prediction = model.predict(ex)\n",
    "if prediction==1:\n",
    "    print(\"ckd is positive\")\n",
    "else:\n",
    "    print(\"ckd is negative\")\n",
    "accuracy = metrics.accuracy_score(predictions,y)\n",
    "print(\"Accuracy : %s\" % \"{0:.3%}\".format(accuracy))"
   ]
  },
  {
   "cell_type": "code",
   "execution_count": 22,
   "metadata": {
    "collapsed": false
   },
   "outputs": [
    {
     "name": "stdout",
     "output_type": "stream",
     "text": [
      "Accuracy : 85.750%\n"
     ]
    }
   ],
   "source": []
  },
  {
   "cell_type": "code",
   "execution_count": null,
   "metadata": {
    "collapsed": true
   },
   "outputs": [],
   "source": []
  },
  {
   "cell_type": "code",
   "execution_count": 25,
   "metadata": {
    "collapsed": false
   },
   "outputs": [
    {
     "name": "stdout",
     "output_type": "stream",
     "text": [
      "Accuracy : 98.250%\n"
     ]
    }
   ],
   "source": [
    "from sklearn.naive_bayes import GaussianNB\n",
    "from sklearn import metrics\n",
    "model = GaussianNB()\n",
    "model.fit(X,y)\n",
    "predictions = model.predict(X)\n",
    "#print(\"Accuracy : %s\" % \"{0:.3%}\".format(accuracy))\n",
    "accuracy = metrics.accuracy_score(predictions,y)\n",
    "print(\"Accuracy : %s\" % \"{0:.3%}\".format(accuracy))"
   ]
  },
  {
   "cell_type": "code",
   "execution_count": null,
   "metadata": {
    "collapsed": true
   },
   "outputs": [],
   "source": []
  }
 ],
 "metadata": {
  "kernelspec": {
   "display_name": "Python 3",
   "language": "python",
   "name": "python3"
  },
  "language_info": {
   "codemirror_mode": {
    "name": "ipython",
    "version": 3
   },
   "file_extension": ".py",
   "mimetype": "text/x-python",
   "name": "python",
   "nbconvert_exporter": "python",
   "pygments_lexer": "ipython3",
   "version": "3.6.0"
  }
 },
 "nbformat": 4,
 "nbformat_minor": 2
}
